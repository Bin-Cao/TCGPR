{
 "cells": [
  {
   "cell_type": "code",
   "execution_count": 41,
   "id": "f1409f81",
   "metadata": {},
   "outputs": [],
   "source": [
    "# def a function evaluate the fitting goodness of dataset by Gpr model and LOOCV\n",
    "import math\n",
    "import warnings\n",
    "from sklearn.gaussian_process import GaussianProcessRegressor\n",
    "from sklearn.gaussian_process.kernels import RBF,\n",
    "from sklearn.model_selection import LeaveOneOut\n",
    "warnings.filterwarnings('ignore')\n",
    "\n",
    "def eval_dataset(dataset):\n",
    "    dataset = np.array(dataset)\n",
    "    KErnel = 1*RBF(length_scale_bounds = (1e-2, 1e2))\n",
    "    X = dataset[:, :-1]\n",
    "    Y = dataset[:, -1]\n",
    "    loo = LeaveOneOut()\n",
    "    y_pre_set = []\n",
    "    for train_index, test_index in loo.split(X):\n",
    "        X_train, X_test = X[train_index], X[test_index]\n",
    "        y_train, _ = Y[train_index], Y[test_index]\n",
    "        Gpr_i = GaussianProcessRegressor(kernel=KErnel,\n",
    "                                        normalize_y=True,\n",
    "                                        random_state=0).fit(X_train, y_train)\n",
    "\n",
    "        y_pre = Gpr_i.predict(X_test, return_std=True)[0]\n",
    "        y_pre_set.append(y_pre)\n",
    "    Rvalue = PearsonR(y_pre_set, Y)\n",
    "    return Rvalue\n",
    "\n",
    "\n",
    "def PearsonR(X, Y):\n",
    "    X = np.array(X)\n",
    "    Y = np.array(Y)\n",
    "    xBar = np.mean(X)\n",
    "    yBar = np.mean(Y)\n",
    "    SSR = 0\n",
    "    varX = 0\n",
    "    varY = 0\n",
    "    for i in range(0, len(X)):\n",
    "        diffXXBar = X[i] - xBar\n",
    "        diffYYBar = Y[i] - yBar\n",
    "        SSR += (diffXXBar * diffYYBar)\n",
    "        varX += diffXXBar ** 2\n",
    "        varY += diffYYBar ** 2\n",
    "    SST = math.sqrt(varX * varY)\n",
    "\n",
    "    return SSR / SST"
   ]
  },
  {
   "cell_type": "markdown",
   "id": "05708e58",
   "metadata": {},
   "source": [
    "# LOF"
   ]
  },
  {
   "cell_type": "code",
   "execution_count": 11,
   "id": "51db56ec",
   "metadata": {},
   "outputs": [],
   "source": [
    "import pandas as pd\n",
    "import numpy as np\n",
    "data = pd.read_csv('FMOdataset.csv')"
   ]
  },
  {
   "cell_type": "code",
   "execution_count": 21,
   "id": "b3b7c29f",
   "metadata": {},
   "outputs": [
    {
     "name": "stderr",
     "output_type": "stream",
     "text": [
      "/opt/anaconda3/lib/python3.9/site-packages/sklearn/base.py:450: UserWarning: X does not have valid feature names, but LocalOutlierFactor was fitted with feature names\n",
      "  warnings.warn(\n"
     ]
    },
    {
     "data": {
      "text/plain": [
       "array([ 1, -1, -1,  1,  1,  1, -1,  1,  1, -1,  1,  1,  1,  1,  1,  1,  1,\n",
       "        1,  1,  1,  1,  1,  1,  1,  1,  1,  1,  1,  1,  1,  1,  1,  1,  1,\n",
       "        1,  1,  1,  1,  1,  1,  1,  1,  1,  1,  1,  1,  1,  1,  1,  1,  1,\n",
       "        1,  1,  1,  1,  1,  1,  1,  1,  1,  1,  1,  1,  1,  1,  1,  1,  1,\n",
       "        1,  1,  1,  1,  1,  1,  1,  1,  1,  1,  1,  1,  1,  1,  1,  1,  1,\n",
       "        1,  1,  1,  1,  1,  1,  1,  1,  1,  1,  1,  1,  1,  1,  1,  1,  1,\n",
       "        1,  1,  1,  1,  1,  1,  1,  1,  1,  1,  1,  1,  1,  1,  1,  1,  1,\n",
       "        1,  1,  1,  1,  1,  1,  1,  1,  1,  1,  1,  1,  1,  1,  1,  1,  1,\n",
       "        1,  1,  1,  1,  1,  1,  1,  1,  1,  1,  1,  1,  1,  1,  1,  1,  1,\n",
       "        1,  1,  1,  1,  1,  1,  1,  1,  1,  1,  1,  1,  1,  1,  1,  1,  1,\n",
       "        1,  1,  1,  1,  1,  1,  1,  1])"
      ]
     },
     "execution_count": 21,
     "metadata": {},
     "output_type": "execute_result"
    }
   ],
   "source": [
    "from sklearn.neighbors import LocalOutlierFactor\n",
    "model = LocalOutlierFactor(n_neighbors=4, contamination=0.02,novelty=True)   \n",
    "model.fit(data.iloc[:,:-1])\n",
    "\n",
    "y = model._predict(data.iloc[:,:-1])\n",
    "y"
   ]
  },
  {
   "cell_type": "code",
   "execution_count": 23,
   "id": "c7249b5f",
   "metadata": {},
   "outputs": [
    {
     "data": {
      "text/plain": [
       "array([1, 2, 6, 9])"
      ]
     },
     "execution_count": 23,
     "metadata": {},
     "output_type": "execute_result"
    }
   ],
   "source": [
    "index = np.where(y == -1)[0]\n",
    "index"
   ]
  },
  {
   "cell_type": "code",
   "execution_count": 26,
   "id": "de608128",
   "metadata": {},
   "outputs": [
    {
     "name": "stdout",
     "output_type": "stream",
     "text": [
      "Outliers LOF : \n",
      "\n",
      "Cr_EV         19.526100\n",
      "1/T            0.001486\n",
      "ln(t)          6.363028\n",
      "DO             8.000000\n",
      "weightgain     3.761200\n",
      "Name: 1, dtype: float64 \n",
      "\n",
      "Outliers LOF : \n",
      "\n",
      "Cr_EV         19.526100\n",
      "1/T            0.001486\n",
      "ln(t)          5.541264\n",
      "DO             8.000000\n",
      "weightgain     3.496508\n",
      "Name: 2, dtype: float64 \n",
      "\n",
      "Outliers LOF : \n",
      "\n",
      "Cr_EV         19.526100\n",
      "1/T            0.001293\n",
      "ln(t)          6.620073\n",
      "DO             8.000000\n",
      "weightgain     5.484797\n",
      "Name: 6, dtype: float64 \n",
      "\n",
      "Outliers LOF : \n",
      "\n",
      "Cr_EV         19.526100\n",
      "1/T            0.001293\n",
      "ln(t)          6.606650\n",
      "DO             8.000000\n",
      "weightgain     5.278115\n",
      "Name: 9, dtype: float64 \n",
      "\n"
     ]
    }
   ],
   "source": [
    "for datum in range(len(index)):\n",
    "    print('Outliers LOF : \\n')\n",
    "    print(data.iloc[index[datum],:],'\\n')"
   ]
  },
  {
   "cell_type": "code",
   "execution_count": 32,
   "id": "6e144ba2",
   "metadata": {},
   "outputs": [
    {
     "data": {
      "text/html": [
       "<div>\n",
       "<style scoped>\n",
       "    .dataframe tbody tr th:only-of-type {\n",
       "        vertical-align: middle;\n",
       "    }\n",
       "\n",
       "    .dataframe tbody tr th {\n",
       "        vertical-align: top;\n",
       "    }\n",
       "\n",
       "    .dataframe thead th {\n",
       "        text-align: right;\n",
       "    }\n",
       "</style>\n",
       "<table border=\"1\" class=\"dataframe\">\n",
       "  <thead>\n",
       "    <tr style=\"text-align: right;\">\n",
       "      <th></th>\n",
       "      <th>Cr_EV</th>\n",
       "      <th>1/T</th>\n",
       "      <th>ln(t)</th>\n",
       "      <th>DO</th>\n",
       "      <th>weightgain</th>\n",
       "    </tr>\n",
       "  </thead>\n",
       "  <tbody>\n",
       "    <tr>\n",
       "      <th>0</th>\n",
       "      <td>19.5261</td>\n",
       "      <td>0.001486</td>\n",
       "      <td>3.688879</td>\n",
       "      <td>8</td>\n",
       "      <td>3.526361</td>\n",
       "    </tr>\n",
       "    <tr>\n",
       "      <th>3</th>\n",
       "      <td>19.5261</td>\n",
       "      <td>0.001486</td>\n",
       "      <td>6.214608</td>\n",
       "      <td>8</td>\n",
       "      <td>3.737670</td>\n",
       "    </tr>\n",
       "    <tr>\n",
       "      <th>4</th>\n",
       "      <td>19.5261</td>\n",
       "      <td>0.001293</td>\n",
       "      <td>6.214608</td>\n",
       "      <td>8</td>\n",
       "      <td>5.247024</td>\n",
       "    </tr>\n",
       "    <tr>\n",
       "      <th>5</th>\n",
       "      <td>19.5261</td>\n",
       "      <td>0.001293</td>\n",
       "      <td>6.214608</td>\n",
       "      <td>8</td>\n",
       "      <td>5.313206</td>\n",
       "    </tr>\n",
       "    <tr>\n",
       "      <th>7</th>\n",
       "      <td>19.5261</td>\n",
       "      <td>0.001293</td>\n",
       "      <td>6.214608</td>\n",
       "      <td>8</td>\n",
       "      <td>5.267858</td>\n",
       "    </tr>\n",
       "    <tr>\n",
       "      <th>...</th>\n",
       "      <td>...</td>\n",
       "      <td>...</td>\n",
       "      <td>...</td>\n",
       "      <td>...</td>\n",
       "      <td>...</td>\n",
       "    </tr>\n",
       "    <tr>\n",
       "      <th>173</th>\n",
       "      <td>20.7240</td>\n",
       "      <td>0.001145</td>\n",
       "      <td>6.396930</td>\n",
       "      <td>10</td>\n",
       "      <td>6.543912</td>\n",
       "    </tr>\n",
       "    <tr>\n",
       "      <th>174</th>\n",
       "      <td>20.7240</td>\n",
       "      <td>0.001145</td>\n",
       "      <td>6.907755</td>\n",
       "      <td>10</td>\n",
       "      <td>6.728629</td>\n",
       "    </tr>\n",
       "    <tr>\n",
       "      <th>175</th>\n",
       "      <td>20.7240</td>\n",
       "      <td>0.001145</td>\n",
       "      <td>7.313220</td>\n",
       "      <td>10</td>\n",
       "      <td>6.900731</td>\n",
       "    </tr>\n",
       "    <tr>\n",
       "      <th>176</th>\n",
       "      <td>18.6880</td>\n",
       "      <td>0.001145</td>\n",
       "      <td>6.907755</td>\n",
       "      <td>25</td>\n",
       "      <td>7.230117</td>\n",
       "    </tr>\n",
       "    <tr>\n",
       "      <th>177</th>\n",
       "      <td>22.7720</td>\n",
       "      <td>0.001083</td>\n",
       "      <td>6.214608</td>\n",
       "      <td>2000</td>\n",
       "      <td>7.229846</td>\n",
       "    </tr>\n",
       "  </tbody>\n",
       "</table>\n",
       "<p>174 rows × 5 columns</p>\n",
       "</div>"
      ],
      "text/plain": [
       "       Cr_EV       1/T     ln(t)    DO  weightgain\n",
       "0    19.5261  0.001486  3.688879     8    3.526361\n",
       "3    19.5261  0.001486  6.214608     8    3.737670\n",
       "4    19.5261  0.001293  6.214608     8    5.247024\n",
       "5    19.5261  0.001293  6.214608     8    5.313206\n",
       "7    19.5261  0.001293  6.214608     8    5.267858\n",
       "..       ...       ...       ...   ...         ...\n",
       "173  20.7240  0.001145  6.396930    10    6.543912\n",
       "174  20.7240  0.001145  6.907755    10    6.728629\n",
       "175  20.7240  0.001145  7.313220    10    6.900731\n",
       "176  18.6880  0.001145  6.907755    25    7.230117\n",
       "177  22.7720  0.001083  6.214608  2000    7.229846\n",
       "\n",
       "[174 rows x 5 columns]"
      ]
     },
     "execution_count": 32,
     "metadata": {},
     "output_type": "execute_result"
    }
   ],
   "source": [
    "data_removed = data.drop(index,axis = 0)\n",
    "data_removed"
   ]
  },
  {
   "cell_type": "code",
   "execution_count": 42,
   "id": "484c7cf0",
   "metadata": {},
   "outputs": [
    {
     "name": "stdout",
     "output_type": "stream",
     "text": [
      "[0.34228528]\n",
      "[0.34598621]\n"
     ]
    }
   ],
   "source": [
    "print(eval_dataset(data))\n",
    "print(eval_dataset(data_removed))"
   ]
  },
  {
   "cell_type": "code",
   "execution_count": null,
   "id": "396c488d",
   "metadata": {},
   "outputs": [],
   "source": []
  }
 ],
 "metadata": {
  "kernelspec": {
   "display_name": "Python 3 (ipykernel)",
   "language": "python",
   "name": "python3"
  },
  "language_info": {
   "codemirror_mode": {
    "name": "ipython",
    "version": 3
   },
   "file_extension": ".py",
   "mimetype": "text/x-python",
   "name": "python",
   "nbconvert_exporter": "python",
   "pygments_lexer": "ipython3",
   "version": "3.9.7"
  }
 },
 "nbformat": 4,
 "nbformat_minor": 5
}
