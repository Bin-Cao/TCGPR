{
 "cells": [
  {
   "cell_type": "code",
   "execution_count": 2,
   "id": "f1409f81",
   "metadata": {},
   "outputs": [],
   "source": [
    "# def a function evaluate the fitting goodness of dataset by Gpr model and LOOCV\n",
    "import math\n",
    "import warnings\n",
    "from sklearn.gaussian_process import GaussianProcessRegressor\n",
    "from sklearn.gaussian_process.kernels import RBF\n",
    "from sklearn.model_selection import LeaveOneOut\n",
    "warnings.filterwarnings('ignore')\n",
    "\n",
    "def eval_dataset(dataset):\n",
    "    dataset = np.array(dataset)\n",
    "    KErnel = 1*RBF(length_scale_bounds = (1e-2, 1e2))\n",
    "    X = dataset[:, :-1]\n",
    "    Y = dataset[:, -1]\n",
    "    loo = LeaveOneOut()\n",
    "    y_pre_set = []\n",
    "    for train_index, test_index in loo.split(X):\n",
    "        X_train, X_test = X[train_index], X[test_index]\n",
    "        y_train, _ = Y[train_index], Y[test_index]\n",
    "        Gpr_i = GaussianProcessRegressor(kernel=KErnel,\n",
    "                                        normalize_y=True,\n",
    "                                        random_state=0).fit(X_train, y_train)\n",
    "\n",
    "        y_pre = Gpr_i.predict(X_test, return_std=True)[0]\n",
    "        y_pre_set.append(y_pre)\n",
    "    Rvalue = PearsonR(y_pre_set, Y)\n",
    "    return Rvalue\n",
    "\n",
    "\n",
    "def PearsonR(X, Y):\n",
    "    X = np.array(X)\n",
    "    Y = np.array(Y)\n",
    "    xBar = np.mean(X)\n",
    "    yBar = np.mean(Y)\n",
    "    SSR = 0\n",
    "    varX = 0\n",
    "    varY = 0\n",
    "    for i in range(0, len(X)):\n",
    "        diffXXBar = X[i] - xBar\n",
    "        diffYYBar = Y[i] - yBar\n",
    "        SSR += (diffXXBar * diffYYBar)\n",
    "        varX += diffXXBar ** 2\n",
    "        varY += diffYYBar ** 2\n",
    "    SST = math.sqrt(varX * varY)\n",
    "\n",
    "    return SSR / SST"
   ]
  },
  {
   "cell_type": "markdown",
   "id": "05708e58",
   "metadata": {},
   "source": [
    "# LOF"
   ]
  },
  {
   "cell_type": "code",
   "execution_count": 3,
   "id": "51db56ec",
   "metadata": {},
   "outputs": [],
   "source": [
    "import pandas as pd\n",
    "import numpy as np\n",
    "data = pd.read_csv('FMOdataset.csv')"
   ]
  },
  {
   "cell_type": "code",
   "execution_count": 7,
   "id": "b3b7c29f",
   "metadata": {},
   "outputs": [
    {
     "data": {
      "text/plain": [
       "array([ 1,  1,  1,  1,  1,  1,  1,  1,  1, -1,  1,  1,  1,  1,  1,  1,  1,\n",
       "        1,  1,  1,  1,  1,  1,  1,  1,  1,  1,  1,  1, -1,  1,  1,  1,  1,\n",
       "        1,  1,  1,  1,  1,  1,  1,  1,  1,  1,  1,  1,  1,  1,  1,  1,  1,\n",
       "        1,  1,  1,  1,  1,  1,  1,  1,  1,  1,  1,  1,  1,  1,  1,  1,  1,\n",
       "        1,  1,  1,  1,  1,  1,  1,  1,  1,  1,  1,  1,  1,  1,  1,  1,  1])"
      ]
     },
     "execution_count": 7,
     "metadata": {},
     "output_type": "execute_result"
    }
   ],
   "source": [
    "from sklearn.neighbors import LocalOutlierFactor\n",
    "model = LocalOutlierFactor(n_neighbors=4, contamination=0.1,novelty=True)   \n",
    "model.fit(data.iloc[:,:-1])\n",
    "\n",
    "y = model._predict(data.iloc[:,:-1])\n",
    "y"
   ]
  },
  {
   "cell_type": "code",
   "execution_count": 8,
   "id": "c7249b5f",
   "metadata": {},
   "outputs": [
    {
     "data": {
      "text/plain": [
       "array([ 9, 29])"
      ]
     },
     "execution_count": 8,
     "metadata": {},
     "output_type": "execute_result"
    }
   ],
   "source": [
    "index = np.where(y == -1)[0]\n",
    "index"
   ]
  },
  {
   "cell_type": "code",
   "execution_count": 9,
   "id": "de608128",
   "metadata": {},
   "outputs": [
    {
     "name": "stdout",
     "output_type": "stream",
     "text": [
      "Outliers LOF : \n",
      "\n",
      "Cr_EV          18.561200\n",
      "1/T             0.001215\n",
      "ln(t)           6.907755\n",
      "DO            100.000000\n",
      "weightgain      5.687314\n",
      "Name: 9, dtype: float64 \n",
      "\n",
      "Outliers LOF : \n",
      "\n",
      "Cr_EV          18.561200\n",
      "1/T             0.001215\n",
      "ln(t)           6.684612\n",
      "DO            100.000000\n",
      "weightgain      5.605839\n",
      "Name: 29, dtype: float64 \n",
      "\n"
     ]
    }
   ],
   "source": [
    "for datum in range(len(index)):\n",
    "    print('Outliers LOF : \\n')\n",
    "    print(data.iloc[index[datum],:],'\\n')"
   ]
  },
  {
   "cell_type": "code",
   "execution_count": 10,
   "id": "6e144ba2",
   "metadata": {},
   "outputs": [
    {
     "data": {
      "text/html": [
       "<div>\n",
       "<style scoped>\n",
       "    .dataframe tbody tr th:only-of-type {\n",
       "        vertical-align: middle;\n",
       "    }\n",
       "\n",
       "    .dataframe tbody tr th {\n",
       "        vertical-align: top;\n",
       "    }\n",
       "\n",
       "    .dataframe thead th {\n",
       "        text-align: right;\n",
       "    }\n",
       "</style>\n",
       "<table border=\"1\" class=\"dataframe\">\n",
       "  <thead>\n",
       "    <tr style=\"text-align: right;\">\n",
       "      <th></th>\n",
       "      <th>Cr_EV</th>\n",
       "      <th>1/T</th>\n",
       "      <th>ln(t)</th>\n",
       "      <th>DO</th>\n",
       "      <th>weightgain</th>\n",
       "    </tr>\n",
       "  </thead>\n",
       "  <tbody>\n",
       "    <tr>\n",
       "      <th>0</th>\n",
       "      <td>18.2600</td>\n",
       "      <td>0.001486</td>\n",
       "      <td>5.298317</td>\n",
       "      <td>8</td>\n",
       "      <td>4.094345</td>\n",
       "    </tr>\n",
       "    <tr>\n",
       "      <th>1</th>\n",
       "      <td>12.8400</td>\n",
       "      <td>0.001293</td>\n",
       "      <td>4.605170</td>\n",
       "      <td>8000</td>\n",
       "      <td>5.191845</td>\n",
       "    </tr>\n",
       "    <tr>\n",
       "      <th>2</th>\n",
       "      <td>18.5612</td>\n",
       "      <td>0.001083</td>\n",
       "      <td>5.991465</td>\n",
       "      <td>8000</td>\n",
       "      <td>7.296074</td>\n",
       "    </tr>\n",
       "    <tr>\n",
       "      <th>3</th>\n",
       "      <td>15.4900</td>\n",
       "      <td>0.001293</td>\n",
       "      <td>5.521461</td>\n",
       "      <td>8000</td>\n",
       "      <td>5.832762</td>\n",
       "    </tr>\n",
       "    <tr>\n",
       "      <th>4</th>\n",
       "      <td>25.6050</td>\n",
       "      <td>0.001083</td>\n",
       "      <td>7.313220</td>\n",
       "      <td>10</td>\n",
       "      <td>4.996536</td>\n",
       "    </tr>\n",
       "    <tr>\n",
       "      <th>...</th>\n",
       "      <td>...</td>\n",
       "      <td>...</td>\n",
       "      <td>...</td>\n",
       "      <td>...</td>\n",
       "      <td>...</td>\n",
       "    </tr>\n",
       "    <tr>\n",
       "      <th>80</th>\n",
       "      <td>21.6600</td>\n",
       "      <td>0.001293</td>\n",
       "      <td>4.605170</td>\n",
       "      <td>8000</td>\n",
       "      <td>4.864453</td>\n",
       "    </tr>\n",
       "    <tr>\n",
       "      <th>81</th>\n",
       "      <td>18.2600</td>\n",
       "      <td>0.001486</td>\n",
       "      <td>5.298317</td>\n",
       "      <td>0</td>\n",
       "      <td>2.708050</td>\n",
       "    </tr>\n",
       "    <tr>\n",
       "      <th>82</th>\n",
       "      <td>12.0720</td>\n",
       "      <td>0.001083</td>\n",
       "      <td>5.298317</td>\n",
       "      <td>0</td>\n",
       "      <td>6.234411</td>\n",
       "    </tr>\n",
       "    <tr>\n",
       "      <th>83</th>\n",
       "      <td>22.7720</td>\n",
       "      <td>0.001293</td>\n",
       "      <td>7.600902</td>\n",
       "      <td>10</td>\n",
       "      <td>5.605876</td>\n",
       "    </tr>\n",
       "    <tr>\n",
       "      <th>84</th>\n",
       "      <td>12.0720</td>\n",
       "      <td>0.001083</td>\n",
       "      <td>6.396930</td>\n",
       "      <td>0</td>\n",
       "      <td>6.398595</td>\n",
       "    </tr>\n",
       "  </tbody>\n",
       "</table>\n",
       "<p>83 rows × 5 columns</p>\n",
       "</div>"
      ],
      "text/plain": [
       "      Cr_EV       1/T     ln(t)    DO  weightgain\n",
       "0   18.2600  0.001486  5.298317     8    4.094345\n",
       "1   12.8400  0.001293  4.605170  8000    5.191845\n",
       "2   18.5612  0.001083  5.991465  8000    7.296074\n",
       "3   15.4900  0.001293  5.521461  8000    5.832762\n",
       "4   25.6050  0.001083  7.313220    10    4.996536\n",
       "..      ...       ...       ...   ...         ...\n",
       "80  21.6600  0.001293  4.605170  8000    4.864453\n",
       "81  18.2600  0.001486  5.298317     0    2.708050\n",
       "82  12.0720  0.001083  5.298317     0    6.234411\n",
       "83  22.7720  0.001293  7.600902    10    5.605876\n",
       "84  12.0720  0.001083  6.396930     0    6.398595\n",
       "\n",
       "[83 rows x 5 columns]"
      ]
     },
     "execution_count": 10,
     "metadata": {},
     "output_type": "execute_result"
    }
   ],
   "source": [
    "data_removed = data.drop(index,axis = 0)\n",
    "data_removed"
   ]
  },
  {
   "cell_type": "code",
   "execution_count": 11,
   "id": "484c7cf0",
   "metadata": {},
   "outputs": [
    {
     "name": "stdout",
     "output_type": "stream",
     "text": [
      "[0.29120498]\n",
      "[0.29178463]\n"
     ]
    }
   ],
   "source": [
    "print(eval_dataset(data))\n",
    "print(eval_dataset(data_removed))"
   ]
  },
  {
   "cell_type": "code",
   "execution_count": null,
   "id": "396c488d",
   "metadata": {},
   "outputs": [],
   "source": []
  }
 ],
 "metadata": {
  "kernelspec": {
   "display_name": "Python 3 (ipykernel)",
   "language": "python",
   "name": "python3"
  },
  "language_info": {
   "codemirror_mode": {
    "name": "ipython",
    "version": 3
   },
   "file_extension": ".py",
   "mimetype": "text/x-python",
   "name": "python",
   "nbconvert_exporter": "python",
   "pygments_lexer": "ipython3",
   "version": "3.9.7"
  }
 },
 "nbformat": 4,
 "nbformat_minor": 5
}
