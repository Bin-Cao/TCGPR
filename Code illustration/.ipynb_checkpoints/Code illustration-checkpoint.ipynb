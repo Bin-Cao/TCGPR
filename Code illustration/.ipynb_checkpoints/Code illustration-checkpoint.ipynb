{
 "cells": [
  {
   "cell_type": "code",
   "execution_count": 1,
   "id": "463ab88b",
   "metadata": {},
   "outputs": [
    {
     "name": "stdout",
     "output_type": "stream",
     "text": [
      "\n",
      "████████╗ ██████╗ ██████╗ ██████╗ ██████╗ \n",
      "╚══██╔══╝██╔════╝██╔════╝ ██╔══██╗██╔══██╗\n",
      "   ██║   ██║     ██║  ███╗██████╔╝██████╔╝\n",
      "   ██║   ██║     ██║   ██║██╔═══╝ ██╔══██╗\n",
      "   ██║   ╚██████╗╚██████╔╝██║     ██║  ██║\n",
      "   ╚═╝    ╚═════╝ ╚═════╝ ╚═╝     ╚═╝  ╚═╝\n",
      "\n",
      "Screening Abnormal Data and Important features for Small DataSet\n",
      "TCGPR, Bin Cao, Advanced Materials Thrust, HKUST(GZ)\n",
      "Intro : https://github.com/Bin-Cao/TCGPR/blob/main/Intro/TCGPR.pdf\n",
      "URL : https://github.com/Bin-Cao/TCGPR\n",
      "DOI : https://doi.org/10.1038/s41524-023-01150-0 (npj Comput Mater)\n",
      "Executed on : 2023-11-08 18:27:59  | Have a great day.\n",
      "\n",
      "\n"
     ]
    }
   ],
   "source": [
    "import numpy as np \n",
    "import pandas as pd\n",
    "from PyTcgpr import TCGPR"
   ]
  },
  {
   "cell_type": "markdown",
   "id": "b41e5fff",
   "metadata": {},
   "source": [
    "# Data Screening or Partition"
   ]
  },
  {
   "cell_type": "markdown",
   "id": "a0fbdece",
   "metadata": {},
   "source": [
    "## generating data"
   ]
  },
  {
   "cell_type": "code",
   "execution_count": 34,
   "id": "d72ed712",
   "metadata": {},
   "outputs": [],
   "source": [
    "from scipy.stats import multivariate_normal\n",
    "\n",
    "def calculate_multivariate_normal_pdf(point, mean, cov_matrix):\n",
    "    mvn = multivariate_normal(mean=mean, cov=cov_matrix)\n",
    "    pdf = mvn.pdf(point)\n",
    "    \n",
    "    return pdf\n"
   ]
  },
  {
   "cell_type": "code",
   "execution_count": 105,
   "id": "a9eff31f",
   "metadata": {
    "scrolled": true
   },
   "outputs": [],
   "source": [
    "import numpy as np\n",
    "\n",
    "\n",
    "mean_1 = [0, 0,]\n",
    "cov_matrix_1 = np.array([[1, 0.5,],\n",
    "                       [0.5, 1],])\n",
    "\n",
    "mean_2 = [1, 1,]\n",
    "cov_matrix_2 = np.array([[1, 0.1],\n",
    "                       [0.1, 1],])\n",
    "\n",
    "num_samples = 10 \n",
    "samples_1 = np.random.multivariate_normal(mean_1, cov_matrix_1, num_samples)\n",
    "samples_2 = 2 * np.random.multivariate_normal(mean_2, cov_matrix_2, num_samples)\n",
    "\n",
    "\n",
    "label_1 = calculate_multivariate_normal_pdf(samples_1,mean_1, cov_matrix_1)\n",
    "label_2 = 2*calculate_multivariate_normal_pdf(samples_2,mean_2, cov_matrix_2)\n",
    "\n",
    "\n",
    "# Create a Pandas DataFrame\n",
    "df = pd.DataFrame({\n",
    "    'Feature_1': np.concatenate((samples_1[:, 0], samples_2[:, 0])),\n",
    "    'Feature_2': np.concatenate((samples_1[:, 1], samples_2[:, 1])),\n",
    "    'Label': np.concatenate((label_1, label_2))\n",
    "})"
   ]
  },
  {
   "cell_type": "code",
   "execution_count": 106,
   "id": "cc994c5e",
   "metadata": {},
   "outputs": [
    {
     "data": {
      "text/html": [
       "<div>\n",
       "<style scoped>\n",
       "    .dataframe tbody tr th:only-of-type {\n",
       "        vertical-align: middle;\n",
       "    }\n",
       "\n",
       "    .dataframe tbody tr th {\n",
       "        vertical-align: top;\n",
       "    }\n",
       "\n",
       "    .dataframe thead th {\n",
       "        text-align: right;\n",
       "    }\n",
       "</style>\n",
       "<table border=\"1\" class=\"dataframe\">\n",
       "  <thead>\n",
       "    <tr style=\"text-align: right;\">\n",
       "      <th></th>\n",
       "      <th>Feature_1</th>\n",
       "      <th>Feature_2</th>\n",
       "      <th>Label</th>\n",
       "    </tr>\n",
       "  </thead>\n",
       "  <tbody>\n",
       "    <tr>\n",
       "      <th>0</th>\n",
       "      <td>-0.151007</td>\n",
       "      <td>-0.450993</td>\n",
       "      <td>1.653927e-01</td>\n",
       "    </tr>\n",
       "    <tr>\n",
       "      <th>1</th>\n",
       "      <td>-1.301967</td>\n",
       "      <td>-2.158721</td>\n",
       "      <td>1.729895e-02</td>\n",
       "    </tr>\n",
       "    <tr>\n",
       "      <th>2</th>\n",
       "      <td>0.720904</td>\n",
       "      <td>0.498528</td>\n",
       "      <td>1.399322e-01</td>\n",
       "    </tr>\n",
       "    <tr>\n",
       "      <th>3</th>\n",
       "      <td>-1.595943</td>\n",
       "      <td>-1.084270</td>\n",
       "      <td>4.869406e-02</td>\n",
       "    </tr>\n",
       "    <tr>\n",
       "      <th>4</th>\n",
       "      <td>0.611643</td>\n",
       "      <td>0.353783</td>\n",
       "      <td>1.521904e-01</td>\n",
       "    </tr>\n",
       "    <tr>\n",
       "      <th>5</th>\n",
       "      <td>0.281041</td>\n",
       "      <td>-0.278591</td>\n",
       "      <td>1.571380e-01</td>\n",
       "    </tr>\n",
       "    <tr>\n",
       "      <th>6</th>\n",
       "      <td>1.337756</td>\n",
       "      <td>1.164904</td>\n",
       "      <td>6.374537e-02</td>\n",
       "    </tr>\n",
       "    <tr>\n",
       "      <th>7</th>\n",
       "      <td>0.089760</td>\n",
       "      <td>1.586655</td>\n",
       "      <td>3.752384e-02</td>\n",
       "    </tr>\n",
       "    <tr>\n",
       "      <th>8</th>\n",
       "      <td>-0.374748</td>\n",
       "      <td>-0.525165</td>\n",
       "      <td>1.587662e-01</td>\n",
       "    </tr>\n",
       "    <tr>\n",
       "      <th>9</th>\n",
       "      <td>2.414794</td>\n",
       "      <td>1.140626</td>\n",
       "      <td>9.925756e-03</td>\n",
       "    </tr>\n",
       "    <tr>\n",
       "      <th>10</th>\n",
       "      <td>-2.315914</td>\n",
       "      <td>2.084224</td>\n",
       "      <td>4.761680e-04</td>\n",
       "    </tr>\n",
       "    <tr>\n",
       "      <th>11</th>\n",
       "      <td>1.982523</td>\n",
       "      <td>4.328992</td>\n",
       "      <td>1.013916e-03</td>\n",
       "    </tr>\n",
       "    <tr>\n",
       "      <th>12</th>\n",
       "      <td>0.584401</td>\n",
       "      <td>3.204789</td>\n",
       "      <td>2.294643e-02</td>\n",
       "    </tr>\n",
       "    <tr>\n",
       "      <th>13</th>\n",
       "      <td>4.466188</td>\n",
       "      <td>3.884900</td>\n",
       "      <td>3.040480e-05</td>\n",
       "    </tr>\n",
       "    <tr>\n",
       "      <th>14</th>\n",
       "      <td>0.691022</td>\n",
       "      <td>4.385157</td>\n",
       "      <td>8.408561e-04</td>\n",
       "    </tr>\n",
       "    <tr>\n",
       "      <th>15</th>\n",
       "      <td>3.304223</td>\n",
       "      <td>0.530043</td>\n",
       "      <td>1.755935e-02</td>\n",
       "    </tr>\n",
       "    <tr>\n",
       "      <th>16</th>\n",
       "      <td>-0.227205</td>\n",
       "      <td>2.230085</td>\n",
       "      <td>5.978478e-02</td>\n",
       "    </tr>\n",
       "    <tr>\n",
       "      <th>17</th>\n",
       "      <td>0.579401</td>\n",
       "      <td>6.450139</td>\n",
       "      <td>7.085541e-08</td>\n",
       "    </tr>\n",
       "    <tr>\n",
       "      <th>18</th>\n",
       "      <td>0.698962</td>\n",
       "      <td>2.451322</td>\n",
       "      <td>1.009215e-01</td>\n",
       "    </tr>\n",
       "    <tr>\n",
       "      <th>19</th>\n",
       "      <td>5.789226</td>\n",
       "      <td>6.712552</td>\n",
       "      <td>3.284431e-12</td>\n",
       "    </tr>\n",
       "  </tbody>\n",
       "</table>\n",
       "</div>"
      ],
      "text/plain": [
       "    Feature_1  Feature_2         Label\n",
       "0   -0.151007  -0.450993  1.653927e-01\n",
       "1   -1.301967  -2.158721  1.729895e-02\n",
       "2    0.720904   0.498528  1.399322e-01\n",
       "3   -1.595943  -1.084270  4.869406e-02\n",
       "4    0.611643   0.353783  1.521904e-01\n",
       "5    0.281041  -0.278591  1.571380e-01\n",
       "6    1.337756   1.164904  6.374537e-02\n",
       "7    0.089760   1.586655  3.752384e-02\n",
       "8   -0.374748  -0.525165  1.587662e-01\n",
       "9    2.414794   1.140626  9.925756e-03\n",
       "10  -2.315914   2.084224  4.761680e-04\n",
       "11   1.982523   4.328992  1.013916e-03\n",
       "12   0.584401   3.204789  2.294643e-02\n",
       "13   4.466188   3.884900  3.040480e-05\n",
       "14   0.691022   4.385157  8.408561e-04\n",
       "15   3.304223   0.530043  1.755935e-02\n",
       "16  -0.227205   2.230085  5.978478e-02\n",
       "17   0.579401   6.450139  7.085541e-08\n",
       "18   0.698962   2.451322  1.009215e-01\n",
       "19   5.789226   6.712552  3.284431e-12"
      ]
     },
     "execution_count": 106,
     "metadata": {},
     "output_type": "execute_result"
    }
   ],
   "source": [
    "df"
   ]
  },
  {
   "cell_type": "code",
   "execution_count": 107,
   "id": "2c8c58a1",
   "metadata": {},
   "outputs": [
    {
     "data": {
      "image/png": "[encoded data removed]",
      "text/plain": [
       "<Figure size 640x480 with 1 Axes>"
      ]
     },
     "metadata": {},
     "output_type": "display_data"
    }
   ],
   "source": [
    "import matplotlib.pyplot as plt\n",
    "\n",
    "plt.scatter(df.iloc[:10,0], df.iloc[:10,1],c='r')\n",
    "plt.scatter(df.iloc[10:,0], df.iloc[10:,1],c='b')\n",
    "\n",
    "plt.show()"
   ]
  },
  {
   "cell_type": "code",
   "execution_count": 108,
   "id": "f38f0e48",
   "metadata": {},
   "outputs": [],
   "source": [
    "df.to_csv('data.csv',index=None)"
   ]
  },
  {
   "cell_type": "code",
   "execution_count": 109,
   "id": "10ebb0e2",
   "metadata": {},
   "outputs": [
    {
     "name": "stdout",
     "output_type": "stream",
     "text": [
      "Leave one out cross validation is applied in TCGPR\n",
      "Execution of TCGPR : Dataset Partition Module\n",
      "THE specific Initial dataset is \n",
      "    Feature_1  Feature_2     Label\n",
      "0  -0.151007  -0.450993  0.165393\n",
      "1  -1.301967  -2.158721  0.017299\n",
      "2   0.720904   0.498528  0.139932\n",
      "----------------------------------------------------------------------------------------------------\n",
      "The input sampling_cap is 2\n",
      "The algorithm will searching all candidates by brute force searching\n",
      "1-th iteration : The newly added data are\n",
      "[0.61164297 0.35378276 0.15219037]\n",
      "[-2.31591449e+00  2.08422404e+00  4.76168002e-04]\n",
      "The algorithm will searching all candidates by brute force searching\n",
      "2-th iteration : The newly added data are\n",
      "[-0.37474824 -0.52516459  0.15876623]\n",
      "[5.78922643e+00 6.71255243e+00 3.28443080e-12]\n",
      "The algorithm will searching all candidates by brute force searching\n",
      "3-th iteration : The newly added data are\n",
      "[0.08976019 1.58665548 0.03752384]\n",
      "[5.79401371e-01 6.45013889e+00 7.08554055e-08]\n",
      "The algorithm will searching all candidates by brute force searching\n",
      "****************************************************************************************************\n",
      "The dataset after data screening is : \n",
      "    Feature_1  Feature_2         Label\n",
      "0  -0.151007  -0.450993  1.653927e-01\n",
      "1  -1.301967  -2.158721  1.729895e-02\n",
      "2   0.720904   0.498528  1.399322e-01\n",
      "3   0.611643   0.353783  1.521904e-01\n",
      "4  -2.315914   2.084224  4.761680e-04\n",
      "5  -0.374748  -0.525165  1.587662e-01\n",
      "6   5.789226   6.712552  3.284431e-12\n",
      "7   0.089760   1.586655  3.752384e-02\n",
      "8   0.579401   6.450139  7.085541e-08\n",
      "The changes of fitting goodness are : \n",
      " [-1.0, 0.931973697165668, 0.9596858558726149, 0.9797255044353148]\n",
      "The dataset after data screening has been saved successfully!\n",
      "****************************************************************************************************\n",
      "The conherenced dataset has been saved !\n",
      "====================================================================================================\n"
     ]
    }
   ],
   "source": [
    "dataSet = 'data.csv'\n",
    "initial_set_cap = [0,1,2]\n",
    "sampling_cap = 2\n",
    "up_search = 500\n",
    "CV = 'LOOCV'\n",
    "Task = 'Partition'\n",
    "TCGPR.fit(\n",
    "    filePath = dataSet, initial_set_cap = initial_set_cap,Task=Task, sampling_cap = sampling_cap,\n",
    "    up_search = up_search, CV=CV,ratio=0.0\n",
    "        )\n",
    "# note: default setting of Mission = 'DATA', No need to declare"
   ]
  },
  {
   "cell_type": "code",
   "execution_count": 110,
   "id": "cb26cc1a",
   "metadata": {},
   "outputs": [
    {
     "data": {
      "image/png": "[encoded data removed]",
      "text/plain": [
       "<Figure size 640x480 with 1 Axes>"
      ]
     },
     "metadata": {},
     "output_type": "display_data"
    }
   ],
   "source": [
    "df_tcgpr = pd.read_csv('Dataset remained by TCGPR.csv')\n",
    "plt.scatter(df_tcgpr.iloc[:,0], df_tcgpr.iloc[:,1],marker='o',c='k', s=150)\n",
    "\n",
    "plt.scatter(df.iloc[:10,0], df.iloc[:10,1],c='r')\n",
    "plt.scatter(df.iloc[10:,0], df.iloc[10:,1],c='b')\n",
    "\n",
    "plt.show()"
   ]
  },
  {
   "cell_type": "code",
   "execution_count": null,
   "id": "9103488c",
   "metadata": {},
   "outputs": [],
   "source": []
  }
 ],
 "metadata": {
  "kernelspec": {
   "display_name": "Python 3 (ipykernel)",
   "language": "python",
   "name": "python3"
  },
  "language_info": {
   "codemirror_mode": {
    "name": "ipython",
    "version": 3
   },
   "file_extension": ".py",
   "mimetype": "text/x-python",
   "name": "python",
   "nbconvert_exporter": "python",
   "pygments_lexer": "ipython3",
   "version": "3.9.12"
  }
 },
 "nbformat": 4,
 "nbformat_minor": 5
}
