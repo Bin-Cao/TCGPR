{
 "cells": [
  {
   "cell_type": "code",
   "execution_count": 1,
   "id": "463ab88b",
   "metadata": {},
   "outputs": [
    {
     "name": "stdout",
     "output_type": "stream",
     "text": [
      "\n",
      "████████╗ ██████╗ ██████╗ ██████╗ ██████╗ \n",
      "╚══██╔══╝██╔════╝██╔════╝ ██╔══██╗██╔══██╗\n",
      "   ██║   ██║     ██║  ███╗██████╔╝██████╔╝\n",
      "   ██║   ██║     ██║   ██║██╔═══╝ ██╔══██╗\n",
      "   ██║   ╚██████╗╚██████╔╝██║     ██║  ██║\n",
      "   ╚═╝    ╚═════╝ ╚═════╝ ╚═╝     ╚═╝  ╚═╝\n",
      "\n",
      "Screening Abnormal Data and Important features for Small DataSet\n",
      "TCGPR, Bin Cao, Advanced Materials Thrust, HKUST(GZ)\n",
      "Intro : https://github.com/Bin-Cao/TCGPR/blob/main/Intro/TCGPR.pdf\n",
      "URL : https://github.com/Bin-Cao/TCGPR\n",
      "DOI : https://doi.org/10.1038/s41524-023-01150-0 (npj Comput Mater)\n",
      "Executed on : 2023-11-08 18:27:59  | Have a great day.\n",
      "\n",
      "\n"
     ]
    }
   ],
   "source": [
    "import numpy as np \n",
    "import pandas as pd\n",
    "from PyTcgpr import TCGPR"
   ]
  },
  {
   "cell_type": "markdown",
   "id": "b41e5fff",
   "metadata": {},
   "source": [
    "# Data Screening or Partition"
   ]
  },
  {
   "cell_type": "markdown",
   "id": "a0fbdece",
   "metadata": {},
   "source": [
    "## generating data"
   ]
  },
  {
   "cell_type": "code",
   "execution_count": 34,
   "id": "1733222b",
   "metadata": {},
   "outputs": [],
   "source": [
    "from scipy.stats import multivariate_normal\n",
    "\n",
    "def calculate_multivariate_normal_pdf(point, mean, cov_matrix):\n",
    "    mvn = multivariate_normal(mean=mean, cov=cov_matrix)\n",
    "    pdf = mvn.pdf(point)\n",
    "    \n",
    "    return pdf\n"
   ]
  },
  {
   "cell_type": "code",
   "execution_count": 113,
   "id": "a9eff31f",
   "metadata": {
    "scrolled": true
   },
   "outputs": [],
   "source": [
    "import numpy as np\n",
    "\n",
    "\n",
    "mean_1 = [0, 0,]\n",
    "cov_matrix_1 = np.array([[1, 0.5,],\n",
    "                       [0.5, 1],])\n",
    "\n",
    "mean_2 = [1, 1,]\n",
    "cov_matrix_2 = np.array([[1, 0.1],\n",
    "                       [0.1, 1],])\n",
    "\n",
    "num_samples = 10 \n",
    "samples_1 = np.random.multivariate_normal(mean_1, cov_matrix_1, num_samples)\n",
    "samples_2 = np.random.multivariate_normal(mean_2, cov_matrix_2, num_samples)\n",
    "\n",
    "\n",
    "label_1 = calculate_multivariate_normal_pdf(samples_1,mean_1, cov_matrix_1)\n",
    "label_2 = calculate_multivariate_normal_pdf(samples_2,mean_2, cov_matrix_2)\n",
    "\n",
    "\n",
    "# Create a Pandas DataFrame\n",
    "df = pd.DataFrame({\n",
    "    'Feature_1': np.concatenate((samples_1[:, 0], samples_2[:, 0])),\n",
    "    'Feature_2': np.concatenate((samples_1[:, 1], samples_2[:, 1])),\n",
    "    'Label': np.concatenate((label_1, label_2))\n",
    "})"
   ]
  },
  {
   "cell_type": "code",
   "execution_count": 119,
   "id": "cc994c5e",
   "metadata": {},
   "outputs": [
    {
     "data": {
      "text/html": [
       "<div>\n",
       "<style scoped>\n",
       "    .dataframe tbody tr th:only-of-type {\n",
       "        vertical-align: middle;\n",
       "    }\n",
       "\n",
       "    .dataframe tbody tr th {\n",
       "        vertical-align: top;\n",
       "    }\n",
       "\n",
       "    .dataframe thead th {\n",
       "        text-align: right;\n",
       "    }\n",
       "</style>\n",
       "<table border=\"1\" class=\"dataframe\">\n",
       "  <thead>\n",
       "    <tr style=\"text-align: right;\">\n",
       "      <th></th>\n",
       "      <th>Feature_1</th>\n",
       "      <th>Feature_2</th>\n",
       "      <th>Label</th>\n",
       "    </tr>\n",
       "  </thead>\n",
       "  <tbody>\n",
       "    <tr>\n",
       "      <th>0</th>\n",
       "      <td>0.265509</td>\n",
       "      <td>1.091482</td>\n",
       "      <td>0.096130</td>\n",
       "    </tr>\n",
       "    <tr>\n",
       "      <th>1</th>\n",
       "      <td>1.286303</td>\n",
       "      <td>1.034703</td>\n",
       "      <td>0.072546</td>\n",
       "    </tr>\n",
       "    <tr>\n",
       "      <th>2</th>\n",
       "      <td>-1.805066</td>\n",
       "      <td>-1.796380</td>\n",
       "      <td>0.021156</td>\n",
       "    </tr>\n",
       "    <tr>\n",
       "      <th>3</th>\n",
       "      <td>0.783438</td>\n",
       "      <td>-0.061829</td>\n",
       "      <td>0.117883</td>\n",
       "    </tr>\n",
       "    <tr>\n",
       "      <th>4</th>\n",
       "      <td>2.668764</td>\n",
       "      <td>2.264476</td>\n",
       "      <td>0.002932</td>\n",
       "    </tr>\n",
       "  </tbody>\n",
       "</table>\n",
       "</div>"
      ],
      "text/plain": [
       "   Feature_1  Feature_2     Label\n",
       "0   0.265509   1.091482  0.096130\n",
       "1   1.286303   1.034703  0.072546\n",
       "2  -1.805066  -1.796380  0.021156\n",
       "3   0.783438  -0.061829  0.117883\n",
       "4   2.668764   2.264476  0.002932"
      ]
     },
     "execution_count": 119,
     "metadata": {},
     "output_type": "execute_result"
    }
   ],
   "source": [
    "df.head()"
   ]
  },
  {
   "cell_type": "code",
   "execution_count": 115,
   "id": "859faccd",
   "metadata": {},
   "outputs": [
    {
     "data": {
      "image/png": "[encoded data removed]",
      "text/plain": [
       "<Figure size 640x480 with 1 Axes>"
      ]
     },
     "metadata": {},
     "output_type": "display_data"
    }
   ],
   "source": [
    "import matplotlib.pyplot as plt\n",
    "\n",
    "plt.scatter(df.iloc[:10,0], df.iloc[:10,1],c='r')\n",
    "plt.scatter(df.iloc[10:,0], df.iloc[10:,1],c='b')\n",
    "\n",
    "plt.show()"
   ]
  },
  {
   "cell_type": "code",
   "execution_count": 116,
   "id": "f38f0e48",
   "metadata": {},
   "outputs": [],
   "source": [
    "df.to_csv('data.csv',index=None)"
   ]
  },
  {
   "cell_type": "code",
   "execution_count": 117,
   "id": "10ebb0e2",
   "metadata": {},
   "outputs": [
    {
     "name": "stdout",
     "output_type": "stream",
     "text": [
      "Leave one out cross validation is applied in TCGPR\n",
      "Execution of TCGPR : Dataset Partition Module\n",
      "THE specific Initial dataset is \n",
      "    Feature_1  Feature_2     Label\n",
      "0   0.265509   1.091482  0.096130\n",
      "1   1.286303   1.034703  0.072546\n",
      "2  -1.805066  -1.796380  0.021156\n",
      "----------------------------------------------------------------------------------------------------\n",
      "The input sampling_cap is 2\n",
      "The algorithm will searching all candidates by brute force searching\n",
      "1-th iteration : The newly added data are\n",
      "[-0.52252722 -2.10655739  0.0165623 ]\n",
      "[ 2.07168455 -0.18768336  0.0386235 ]\n",
      "The algorithm will searching all candidates by brute force searching\n",
      "2-th iteration : The newly added data are\n",
      "[0.06426711 0.15376657 0.07755564]\n",
      "[3.60834046 0.43265161 0.00376887]\n",
      "The algorithm will searching all candidates by brute force searching\n",
      "****************************************************************************************************\n",
      "The dataset after data screening is : \n",
      "    Feature_1  Feature_2     Label\n",
      "0   0.265509   1.091482  0.096130\n",
      "1   1.286303   1.034703  0.072546\n",
      "2  -1.805066  -1.796380  0.021156\n",
      "3  -0.522527  -2.106557  0.016562\n",
      "4   2.071685  -0.187683  0.038624\n",
      "5   0.064267   0.153767  0.077556\n",
      "6   3.608340   0.432652  0.003769\n",
      "The changes of fitting goodness are : \n",
      " [-1.0, 0.8511739365171012, 0.9313525721066865]\n",
      "The dataset after data screening has been saved successfully!\n",
      "****************************************************************************************************\n",
      "The conherenced dataset has been saved !\n",
      "====================================================================================================\n"
     ]
    }
   ],
   "source": [
    "dataSet = 'data.csv'\n",
    "initial_set_cap = [0,1,2]\n",
    "sampling_cap = 2\n",
    "up_search = 500\n",
    "CV = 'LOOCV'\n",
    "Task = 'Partition'\n",
    "TCGPR.fit(\n",
    "    filePath = dataSet, initial_set_cap = initial_set_cap,Task=Task, sampling_cap = sampling_cap,\n",
    "    up_search = up_search, CV=CV,ratio=0.0\n",
    "        )\n",
    "# note: default setting of Mission = 'DATA', No need to declare"
   ]
  },
  {
   "cell_type": "code",
   "execution_count": 118,
   "id": "cb26cc1a",
   "metadata": {},
   "outputs": [
    {
     "data": {
      "image/png": "[encoded data removed]",
      "text/plain": [
       "<Figure size 640x480 with 1 Axes>"
      ]
     },
     "metadata": {},
     "output_type": "display_data"
    }
   ],
   "source": [
    "df_tcgpr = pd.read_csv('Dataset remained by TCGPR.csv')\n",
    "plt.scatter(df_tcgpr.iloc[:,0], df_tcgpr.iloc[:,1],marker='o',c='k', s=150)\n",
    "\n",
    "plt.scatter(df.iloc[:10,0], df.iloc[:10,1],c='r')\n",
    "plt.scatter(df.iloc[10:,0], df.iloc[10:,1],c='b')\n",
    "\n",
    "plt.show()"
   ]
  },
  {
   "cell_type": "code",
   "execution_count": null,
   "id": "7f8316be",
   "metadata": {},
   "outputs": [],
   "source": []
  }
 ],
 "metadata": {
  "kernelspec": {
   "display_name": "Python 3 (ipykernel)",
   "language": "python",
   "name": "python3"
  },
  "language_info": {
   "codemirror_mode": {
    "name": "ipython",
    "version": 3
   },
   "file_extension": ".py",
   "mimetype": "text/x-python",
   "name": "python",
   "nbconvert_exporter": "python",
   "pygments_lexer": "ipython3",
   "version": "3.9.12"
  }
 },
 "nbformat": 4,
 "nbformat_minor": 5
}
