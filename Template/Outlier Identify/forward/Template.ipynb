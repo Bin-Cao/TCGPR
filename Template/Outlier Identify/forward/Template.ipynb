{
 "cells": [
  {
   "cell_type": "markdown",
   "id": "f9c3fd63",
   "metadata": {},
   "source": [
    "# The first time call TCGPR : please install it by"
   ]
  },
  {
   "cell_type": "markdown",
   "id": "3421b4c0",
   "metadata": {},
   "source": [
    "## >>> pip install TCGPR "
   ]
  },
  {
   "cell_type": "markdown",
   "id": "6f93b827",
   "metadata": {},
   "source": [
    "## More info see GitHub : https://github.com/Bin-Cao/TCGPR"
   ]
  },
  {
   "cell_type": "code",
   "execution_count": 1,
   "id": "97bfe6f8",
   "metadata": {},
   "outputs": [
    {
     "name": "stdout",
     "output_type": "stream",
     "text": [
      ".. [TCGPR]: A Machine Learning Algorithms for Screening Abnormal Data and Important features of Small DataSet\n",
      ".. [Info]: V1.2, Bin Cao (bcao@shu.edu.cn), MGI, SHU, Shanghai, CHINA.\n",
      "References :\n",
      "----------\n",
      ".. [1] https://github.com/Bin-Cao/TCGPR/blob/main/Intro/TCGPR.pdf\n",
      ".. [2] Software copyright 2022SR1423038 (2022): Zhang Tong-yi, Cao Bin, Sun Sheng.\n",
      ".. [3] Patent CN 115017977 A(2022): Zhang Tong-yi, Cao Bin, Yuan Hao, Wei Qinghua, Dong Ziqiang.\n",
      "============================================================\n"
     ]
    }
   ],
   "source": [
    "from TCGPR import TCGPR"
   ]
  },
  {
   "cell_type": "markdown",
   "id": "fefc74e2",
   "metadata": {},
   "source": [
    "# Intro. of original dataset"
   ]
  },
  {
   "cell_type": "code",
   "execution_count": 2,
   "id": "498931b3",
   "metadata": {},
   "outputs": [
    {
     "data": {
      "text/html": [
       "<div>\n",
       "<style scoped>\n",
       "    .dataframe tbody tr th:only-of-type {\n",
       "        vertical-align: middle;\n",
       "    }\n",
       "\n",
       "    .dataframe tbody tr th {\n",
       "        vertical-align: top;\n",
       "    }\n",
       "\n",
       "    .dataframe thead th {\n",
       "        text-align: right;\n",
       "    }\n",
       "</style>\n",
       "<table border=\"1\" class=\"dataframe\">\n",
       "  <thead>\n",
       "    <tr style=\"text-align: right;\">\n",
       "      <th></th>\n",
       "      <th>ln(Test_Stress)</th>\n",
       "      <th>Stress/T</th>\n",
       "      <th>1/T(K)</th>\n",
       "      <th>ln(Life)</th>\n",
       "    </tr>\n",
       "  </thead>\n",
       "  <tbody>\n",
       "    <tr>\n",
       "      <th>0</th>\n",
       "      <td>6.478510</td>\n",
       "      <td>0.579620</td>\n",
       "      <td>0.000890</td>\n",
       "      <td>5.356114</td>\n",
       "    </tr>\n",
       "    <tr>\n",
       "      <th>1</th>\n",
       "      <td>6.478510</td>\n",
       "      <td>0.579620</td>\n",
       "      <td>0.000890</td>\n",
       "      <td>5.056883</td>\n",
       "    </tr>\n",
       "    <tr>\n",
       "      <th>2</th>\n",
       "      <td>6.104793</td>\n",
       "      <td>0.391557</td>\n",
       "      <td>0.000874</td>\n",
       "      <td>6.977281</td>\n",
       "    </tr>\n",
       "    <tr>\n",
       "      <th>3</th>\n",
       "      <td>6.104793</td>\n",
       "      <td>0.391557</td>\n",
       "      <td>0.000874</td>\n",
       "      <td>6.891118</td>\n",
       "    </tr>\n",
       "    <tr>\n",
       "      <th>4</th>\n",
       "      <td>5.513429</td>\n",
       "      <td>0.197586</td>\n",
       "      <td>0.000797</td>\n",
       "      <td>5.299317</td>\n",
       "    </tr>\n",
       "    <tr>\n",
       "      <th>5</th>\n",
       "      <td>5.513429</td>\n",
       "      <td>0.197586</td>\n",
       "      <td>0.000797</td>\n",
       "      <td>5.508173</td>\n",
       "    </tr>\n",
       "    <tr>\n",
       "      <th>6</th>\n",
       "      <td>5.568345</td>\n",
       "      <td>0.204185</td>\n",
       "      <td>0.000779</td>\n",
       "      <td>4.454347</td>\n",
       "    </tr>\n",
       "    <tr>\n",
       "      <th>7</th>\n",
       "      <td>5.568345</td>\n",
       "      <td>0.204185</td>\n",
       "      <td>0.000779</td>\n",
       "      <td>4.188138</td>\n",
       "    </tr>\n",
       "    <tr>\n",
       "      <th>8</th>\n",
       "      <td>5.147494</td>\n",
       "      <td>0.131183</td>\n",
       "      <td>0.000763</td>\n",
       "      <td>5.369242</td>\n",
       "    </tr>\n",
       "    <tr>\n",
       "      <th>9</th>\n",
       "      <td>5.147494</td>\n",
       "      <td>0.131183</td>\n",
       "      <td>0.000763</td>\n",
       "      <td>5.296315</td>\n",
       "    </tr>\n",
       "    <tr>\n",
       "      <th>10</th>\n",
       "      <td>4.976734</td>\n",
       "      <td>0.110422</td>\n",
       "      <td>0.000762</td>\n",
       "      <td>5.892749</td>\n",
       "    </tr>\n",
       "    <tr>\n",
       "      <th>11</th>\n",
       "      <td>4.976734</td>\n",
       "      <td>0.110422</td>\n",
       "      <td>0.000762</td>\n",
       "      <td>5.883601</td>\n",
       "    </tr>\n",
       "    <tr>\n",
       "      <th>12</th>\n",
       "      <td>4.820282</td>\n",
       "      <td>0.092596</td>\n",
       "      <td>0.000747</td>\n",
       "      <td>6.176075</td>\n",
       "    </tr>\n",
       "  </tbody>\n",
       "</table>\n",
       "</div>"
      ],
      "text/plain": [
       "    ln(Test_Stress)  Stress/T    1/T(K)  ln(Life)\n",
       "0          6.478510  0.579620  0.000890  5.356114\n",
       "1          6.478510  0.579620  0.000890  5.056883\n",
       "2          6.104793  0.391557  0.000874  6.977281\n",
       "3          6.104793  0.391557  0.000874  6.891118\n",
       "4          5.513429  0.197586  0.000797  5.299317\n",
       "5          5.513429  0.197586  0.000797  5.508173\n",
       "6          5.568345  0.204185  0.000779  4.454347\n",
       "7          5.568345  0.204185  0.000779  4.188138\n",
       "8          5.147494  0.131183  0.000763  5.369242\n",
       "9          5.147494  0.131183  0.000763  5.296315\n",
       "10         4.976734  0.110422  0.000762  5.892749\n",
       "11         4.976734  0.110422  0.000762  5.883601\n",
       "12         4.820282  0.092596  0.000747  6.176075"
      ]
     },
     "execution_count": 2,
     "metadata": {},
     "output_type": "execute_result"
    }
   ],
   "source": [
    "import pandas as pd\n",
    "pd.read_csv('dataset.csv') "
   ]
  },
  {
   "cell_type": "markdown",
   "id": "1727a995",
   "metadata": {},
   "source": [
    "# Herein, we applied TCGPR to identify the outliers."
   ]
  },
  {
   "cell_type": "markdown",
   "id": "846dfdec",
   "metadata": {},
   "source": [
    "# In the form of forward selection"
   ]
  },
  {
   "cell_type": "code",
   "execution_count": 4,
   "id": "07e08183",
   "metadata": {},
   "outputs": [
    {
     "name": "stdout",
     "output_type": "stream",
     "text": [
      " The first execution of TCGPR : Data screening ; forward version\n",
      "Candidates at current searching apace are 286 \n",
      " 100 candidates will be randomly chosen \n",
      "After searching by TCGPR, THE most suitable Initial dataset is \n",
      "    ln(Test_Stress)  Stress/T    1/T(K)  ln(Life)\n",
      "0         6.478510  0.579620  0.000890  5.356114\n",
      "1         5.513429  0.197586  0.000797  5.299317\n",
      "2         4.820282  0.092596  0.000747  6.176075\n",
      "----------------------------------------------------------------------------------------------------\n",
      "It a greedy searching strategy, since the sampling_cap is 1\n",
      "1-th iteration : The newly added datum is\n",
      "[6.47850964e+00 5.79619819e-01 8.90353000e-04 5.05688254e+00]\n",
      "2-th iteration : The newly added datum is\n",
      "[6.10479323e+00 3.91557051e-01 8.74011000e-04 6.97728134e+00]\n",
      "3-th iteration : The newly added datum is\n",
      "[6.10479323e+00 3.91557051e-01 8.74011000e-04 6.89111764e+00]\n",
      "4-th iteration : The newly added datum is\n",
      "[5.14749448e+00 1.31182550e-01 7.62689000e-04 5.36924171e+00]\n",
      "5-th iteration : The newly added datum is\n",
      "[4.97673374e+00 1.10421506e-01 7.61528000e-04 5.88360090e+00]\n",
      "6-th iteration : The newly added datum is\n",
      "[4.97673374e+00 1.10421506e-01 7.61528000e-04 5.89274857e+00]\n",
      "7-th iteration : The newly added datum is\n",
      "[5.51342875e+00 1.97585946e-01 7.96718000e-04 5.50817302e+00]\n",
      "8-th iteration : The newly added datum is\n",
      "[5.14749448e+00 1.31182550e-01 7.62689000e-04 5.29631536e+00]\n",
      "****************************************************************************************************\n",
      "The dataset after data screening is : \n",
      "     ln(Test_Stress)  Stress/T    1/T(K)  ln(Life)\n",
      "0          6.478510  0.579620  0.000890  5.356114\n",
      "1          5.513429  0.197586  0.000797  5.299317\n",
      "2          4.820282  0.092596  0.000747  6.176075\n",
      "3          6.478510  0.579620  0.000890  5.056883\n",
      "4          6.104793  0.391557  0.000874  6.977281\n",
      "5          6.104793  0.391557  0.000874  6.891118\n",
      "6          5.147494  0.131183  0.000763  5.369242\n",
      "7          4.976734  0.110422  0.000762  5.883601\n",
      "8          4.976734  0.110422  0.000762  5.892749\n",
      "9          5.513429  0.197586  0.000797  5.508173\n",
      "10         5.147494  0.131183  0.000763  5.296315\n",
      "The changes of fitting goodness is : \n",
      " [array([-1.]), array([0.02689703]), array([0.13745618]), array([0.86184131]), array([0.92333967]), array([0.96825578]), array([0.96779942]), array([0.95967497]), array([0.96101192])]\n",
      "The dataset after data screening has been saved successfully!\n",
      "****************************************************************************************************\n",
      "One conherenced dataset has been saved !\n",
      "====================================================================================================\n",
      "Self_call is True, the remianed data will be screened by TCGPR\n",
      "The 1-th execution of TCGPR\n",
      "The outliers have been detected \n"
     ]
    }
   ],
   "source": [
    "#coding=utf-8\n",
    "dataSet = \"dataset.csv\"\n",
    "# for data screening,  initial_set_cap must >= 3\n",
    "initial_set_cap = 3\n",
    "sampling_cap = 1\n",
    "# for data screening (forward)\n",
    "# ratio is recommend as a float >= 0.1\n",
    "ratio = 0.1\n",
    "up_search = 100\n",
    "\n",
    "TCGPR.fit(filePath = dataSet,Sequence = 'forward',initial_set_cap = initial_set_cap, sampling_cap = sampling_cap, ratio = ratio, up_search = up_search)"
   ]
  },
  {
   "cell_type": "markdown",
   "id": "28f7c258",
   "metadata": {},
   "source": [
    "# Try different param of initial_set_cap, sampling_cap, ratio etc."
   ]
  },
  {
   "cell_type": "code",
   "execution_count": null,
   "id": "78434115",
   "metadata": {},
   "outputs": [],
   "source": []
  }
 ],
 "metadata": {
  "kernelspec": {
   "display_name": "Python 3",
   "language": "python",
   "name": "python3"
  },
  "language_info": {
   "codemirror_mode": {
    "name": "ipython",
    "version": 3
   },
   "file_extension": ".py",
   "mimetype": "text/x-python",
   "name": "python",
   "nbconvert_exporter": "python",
   "pygments_lexer": "ipython3",
   "version": "3.9.7 (default, Sep 16 2021, 08:50:36) \n[Clang 10.0.0 ]"
  },
  "vscode": {
   "interpreter": {
    "hash": "40d3a090f54c6569ab1632332b64b2c03c39dcf918b08424e98f38b5ae0af88f"
   }
  }
 },
 "nbformat": 4,
 "nbformat_minor": 5
}
